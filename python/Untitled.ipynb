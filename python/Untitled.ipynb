{
 "cells": [
  {
   "cell_type": "code",
   "execution_count": 1,
   "metadata": {},
   "outputs": [],
   "source": [
    "import sys\n",
    "sys.path.append('/home/cosmo/Documents/projects/nanopipes')"
   ]
  },
  {
   "cell_type": "code",
   "execution_count": 2,
   "metadata": {},
   "outputs": [],
   "source": [
    "import coreli"
   ]
  },
  {
   "cell_type": "code",
   "execution_count": 5,
   "metadata": {},
   "outputs": [
    {
     "data": {
      "text/plain": [
       "121"
      ]
     },
     "execution_count": 5,
     "metadata": {},
     "output_type": "execute_result"
    }
   ],
   "source": [
    "int('11111',3)"
   ]
  },
  {
   "cell_type": "code",
   "execution_count": 9,
   "metadata": {},
   "outputs": [
    {
     "data": {
      "text/plain": [
       "40"
      ]
     },
     "execution_count": 9,
     "metadata": {},
     "output_type": "execute_result"
    }
   ],
   "source": [
    "int('101000',2)"
   ]
  },
  {
   "cell_type": "code",
   "execution_count": 8,
   "metadata": {},
   "outputs": [
    {
     "data": {
      "text/plain": [
       "40"
      ]
     },
     "execution_count": 8,
     "metadata": {},
     "output_type": "execute_result"
    }
   ],
   "source": [
    "13*3+1"
   ]
  },
  {
   "cell_type": "code",
   "execution_count": null,
   "metadata": {},
   "outputs": [],
   "source": [
    "x -> (x//2, x%2)"
   ]
  },
  {
   "cell_type": "code",
   "execution_count": null,
   "metadata": {},
   "outputs": [],
   "source": []
  },
  {
   "cell_type": "code",
   "execution_count": null,
   "metadata": {},
   "outputs": [],
   "source": []
  },
  {
   "cell_type": "code",
   "execution_count": null,
   "metadata": {},
   "outputs": [],
   "source": []
  },
  {
   "cell_type": "code",
   "execution_count": null,
   "metadata": {},
   "outputs": [],
   "source": []
  },
  {
   "cell_type": "code",
   "execution_count": null,
   "metadata": {},
   "outputs": [],
   "source": []
  },
  {
   "cell_type": "code",
   "execution_count": null,
   "metadata": {},
   "outputs": [],
   "source": []
  },
  {
   "cell_type": "code",
   "execution_count": null,
   "metadata": {},
   "outputs": [],
   "source": []
  },
  {
   "cell_type": "code",
   "execution_count": null,
   "metadata": {},
   "outputs": [],
   "source": []
  },
  {
   "cell_type": "code",
   "execution_count": 7,
   "metadata": {},
   "outputs": [
    {
     "name": "stdout",
     "output_type": "stream",
     "text": [
      "True\n"
     ]
    }
   ],
   "source": [
    "x = 7; y = 4\n",
    "print(2**x > 3**y)"
   ]
  },
  {
   "cell_type": "code",
   "execution_count": 16,
   "metadata": {},
   "outputs": [
    {
     "data": {
      "text/plain": [
       "'1202'"
      ]
     },
     "execution_count": 16,
     "metadata": {},
     "output_type": "execute_result"
    }
   ],
   "source": [
    "coreli.base(47,3)"
   ]
  },
  {
   "cell_type": "code",
   "execution_count": 32,
   "metadata": {},
   "outputs": [],
   "source": [
    "def d(a,b):\n",
    "    return (3**y)*a + b - (2**x)*a"
   ]
  },
  {
   "cell_type": "code",
   "execution_count": 53,
   "metadata": {},
   "outputs": [],
   "source": [
    "def conjecture(x,y):\n",
    "    for a in range(2,10):\n",
    "        if not (2**(x+y) > 3**(y)*(a+1)-1):\n",
    "            print(a,x,y)\n",
    "            return False\n",
    "    return True"
   ]
  },
  {
   "cell_type": "code",
   "execution_count": null,
   "metadata": {},
   "outputs": [],
   "source": []
  },
  {
   "cell_type": "code",
   "execution_count": 58,
   "metadata": {},
   "outputs": [
    {
     "data": {
      "text/plain": [
       "True"
      ]
     },
     "execution_count": 58,
     "metadata": {},
     "output_type": "execute_result"
    }
   ],
   "source": [
    "x = 8; y= 9\n",
    "a = 6\n",
    "c = 0\n",
    "d = 6*(2**(x+y)-3**(y))\n",
    "(2**(x+y)*a+c == 3**(y)*a+d)"
   ]
  },
  {
   "cell_type": "code",
   "execution_count": 59,
   "metadata": {},
   "outputs": [
    {
     "data": {
      "text/plain": [
       "(6, 0, 668334)"
      ]
     },
     "execution_count": 59,
     "metadata": {},
     "output_type": "execute_result"
    }
   ],
   "source": [
    "a,c,d"
   ]
  },
  {
   "cell_type": "code",
   "execution_count": 64,
   "metadata": {},
   "outputs": [
    {
     "data": {
      "text/plain": [
       "'22221122'"
      ]
     },
     "execution_count": 64,
     "metadata": {},
     "output_type": "execute_result"
    }
   ],
   "source": [
    "coreli.base(6524,3)"
   ]
  },
  {
   "cell_type": "code",
   "execution_count": 63,
   "metadata": {},
   "outputs": [
    {
     "data": {
      "text/plain": [
       "6561"
      ]
     },
     "execution_count": 63,
     "metadata": {},
     "output_type": "execute_result"
    }
   ],
   "source": [
    "3**8"
   ]
  },
  {
   "cell_type": "code",
   "execution_count": 71,
   "metadata": {},
   "outputs": [
    {
     "name": "stdout",
     "output_type": "stream",
     "text": [
      "10 2 2202\n",
      "10 2 2210\n",
      "10 2 2211\n",
      "10 2 2212\n",
      "10 2 2220\n",
      "11 10 10221\n",
      "11 10 10222\n",
      "10 2 21100\n",
      "10 2 21101\n",
      "10 2 21102\n",
      "10 2 21110\n",
      "10 2 21111\n",
      "11 10 101211\n",
      "11 10 101212\n",
      "11 10 101220\n",
      "11 10 101221\n",
      "11 10 101222\n",
      "100 11 112022\n",
      "100 11 112100\n",
      "100 11 112101\n",
      "100 11 112102\n",
      "100 11 112110\n",
      "101 12 122210\n",
      "101 12 122211\n",
      "101 12 122212\n",
      "101 12 122220\n",
      "101 12 122221\n",
      "110 20 2010021\n",
      "110 20 2010022\n",
      "110 20 2010100\n",
      "110 20 2010101\n",
      "110 20 2010102\n",
      "111 21 2110202\n",
      "111 21 2110210\n",
      "111 21 2110211\n",
      "111 21 2110212\n",
      "111 21 2110220\n",
      "1000 22 2211020\n",
      "1000 22 2211021\n",
      "1000 22 2211022\n",
      "1000 22 2211100\n",
      "1000 22 2211101\n",
      "1001 100 10011201\n",
      "1001 100 10011202\n",
      "1001 100 10011210\n",
      "1001 100 10011211\n",
      "1001 100 10011212\n",
      "10 2 2211020\n",
      "10 2 2211021\n",
      "10 2 2211022\n",
      "10 2 2211100\n",
      "10 2 2211101\n",
      "10 2 211111012\n",
      "10 2 211111020\n",
      "10 2 211111021\n",
      "10 2 211111022\n",
      "10 2 211111100\n",
      "11 10 1020201121\n",
      "11 10 1020201122\n",
      "11 10 1020201200\n",
      "11 10 1020201201\n",
      "11 10 1020201202\n",
      "100 11 1122222000\n",
      "100 11 1122222001\n",
      "100 11 1122222002\n",
      "100 11 1122222010\n",
      "100 11 1122222011\n",
      "10 2 2122210220\n",
      "10 2 2122210221\n",
      "10 2 2122210222\n",
      "10 2 2122211000\n",
      "10 2 2122211001\n",
      "11 10 10222201011\n",
      "11 10 10222201012\n",
      "11 10 10222201020\n",
      "11 10 10222201021\n",
      "11 10 10222201022\n",
      "100 11 111022121102\n",
      "100 11 111022121110\n",
      "100 11 111022121111\n",
      "100 11 111022121112\n",
      "100 11 111022121120\n",
      "101 12 121122111200\n",
      "101 12 121122111201\n",
      "101 12 121122111202\n",
      "101 12 121122111210\n",
      "101 12 121122111211\n",
      "110 20 201222101221\n",
      "110 20 201222101222\n",
      "110 20 201222102000\n",
      "110 20 201222102001\n",
      "110 20 201222102002\n",
      "111 21 212022022012\n",
      "111 21 212022022020\n",
      "111 21 212022022021\n",
      "111 21 212022022022\n",
      "111 21 212022022100\n",
      "1000 22 222122012110\n",
      "1000 22 222122012111\n",
      "1000 22 222122012112\n",
      "1000 22 222122012120\n",
      "1000 22 222122012121\n",
      "1001 100 1002222002201\n",
      "1001 100 1002222002202\n",
      "1001 100 1002222002210\n",
      "1001 100 1002222002211\n",
      "1001 100 1002222002212\n",
      "10 2 222122012110\n",
      "10 2 222122012111\n",
      "10 2 222122012112\n",
      "10 2 222122012120\n",
      "10 2 222122012121\n"
     ]
    },
    {
     "ename": "KeyboardInterrupt",
     "evalue": "",
     "output_type": "error",
     "traceback": [
      "\u001b[0;31m---------------------------------------------------------------------------\u001b[0m",
      "\u001b[0;31mKeyboardInterrupt\u001b[0m                         Traceback (most recent call last)",
      "\u001b[0;32m<ipython-input-71-7e01d52a839d>\u001b[0m in \u001b[0;36m<module>\u001b[0;34m\u001b[0m\n\u001b[1;32m      6\u001b[0m             \u001b[0;32mcontinue\u001b[0m\u001b[0;34m\u001b[0m\u001b[0;34m\u001b[0m\u001b[0m\n\u001b[1;32m      7\u001b[0m         \u001b[0;32mfor\u001b[0m \u001b[0ma\u001b[0m \u001b[0;32min\u001b[0m \u001b[0mrange\u001b[0m\u001b[0;34m(\u001b[0m\u001b[0;36m1\u001b[0m\u001b[0;34m,\u001b[0m\u001b[0;36m10\u001b[0m\u001b[0;34m)\u001b[0m\u001b[0;34m:\u001b[0m\u001b[0;34m\u001b[0m\u001b[0;34m\u001b[0m\u001b[0m\n\u001b[0;32m----> 8\u001b[0;31m             \u001b[0;32mfor\u001b[0m \u001b[0mc\u001b[0m \u001b[0;32min\u001b[0m \u001b[0mrange\u001b[0m\u001b[0;34m(\u001b[0m\u001b[0;36m10\u001b[0m\u001b[0;34m,\u001b[0m\u001b[0;36m2\u001b[0m\u001b[0;34m**\u001b[0m\u001b[0;34m(\u001b[0m\u001b[0mx\u001b[0m\u001b[0;34m+\u001b[0m\u001b[0my\u001b[0m\u001b[0;34m)\u001b[0m\u001b[0;34m)\u001b[0m\u001b[0;34m:\u001b[0m\u001b[0;34m\u001b[0m\u001b[0;34m\u001b[0m\u001b[0m\n\u001b[0m\u001b[1;32m      9\u001b[0m                 \u001b[0;32mif\u001b[0m \u001b[0md_of\u001b[0m\u001b[0;34m(\u001b[0m\u001b[0mx\u001b[0m\u001b[0;34m,\u001b[0m\u001b[0my\u001b[0m\u001b[0;34m,\u001b[0m\u001b[0ma\u001b[0m\u001b[0;34m,\u001b[0m\u001b[0mc\u001b[0m\u001b[0;34m)\u001b[0m \u001b[0;34m<\u001b[0m \u001b[0;36m3\u001b[0m\u001b[0;34m**\u001b[0m\u001b[0;34m(\u001b[0m\u001b[0my\u001b[0m\u001b[0;34m)\u001b[0m\u001b[0;34m:\u001b[0m\u001b[0;34m\u001b[0m\u001b[0;34m\u001b[0m\u001b[0m\n\u001b[1;32m     10\u001b[0m                     \u001b[0;32mif\u001b[0m \u001b[0ma\u001b[0m \u001b[0;34m!=\u001b[0m \u001b[0;36m1\u001b[0m \u001b[0;32mand\u001b[0m \u001b[0mc\u001b[0m \u001b[0;34m<=\u001b[0m \u001b[0;36m14\u001b[0m \u001b[0;34m:\u001b[0m\u001b[0;34m\u001b[0m\u001b[0;34m\u001b[0m\u001b[0m\n",
      "\u001b[0;31mKeyboardInterrupt\u001b[0m: "
     ]
    }
   ],
   "source": [
    "def d_of(x,y,a,c):\n",
    "    return a*(2**(x+y)-3**(y))+c\n",
    "for x in range(100):\n",
    "    for y in range(x+1,100):\n",
    "        if 2**(x+y) <= 3**y:\n",
    "            continue\n",
    "        for a in range(1,10):\n",
    "            for c in range(10,2**(x+y)):\n",
    "                if d_of(x,y,a,c) < 3**(y):\n",
    "                    if a != 1 and c <= 14 :\n",
    "                        print(coreli.base(a,2),coreli.base(a,3),coreli.base(a,3)+coreli.base(d_of(x,y,a,c),3))"
   ]
  },
  {
   "cell_type": "code",
   "execution_count": 40,
   "metadata": {},
   "outputs": [
    {
     "data": {
      "text/plain": [
       "{(2, 1): 2, (5, 3): 5, (8, 5): 18, (10, 6): 2, (13, 8): 4}"
      ]
     },
     "execution_count": 40,
     "metadata": {},
     "output_type": "execute_result"
    }
   ],
   "source": [
    "dd"
   ]
  },
  {
   "cell_type": "code",
   "execution_count": 37,
   "metadata": {},
   "outputs": [
    {
     "data": {
      "text/plain": [
       "32"
      ]
     },
     "execution_count": 37,
     "metadata": {},
     "output_type": "execute_result"
    }
   ],
   "source": [
    "2**5"
   ]
  },
  {
   "cell_type": "code",
   "execution_count": 38,
   "metadata": {},
   "outputs": [
    {
     "data": {
      "text/plain": [
       "256"
      ]
     },
     "execution_count": 38,
     "metadata": {},
     "output_type": "execute_result"
    }
   ],
   "source": [
    "2**8"
   ]
  },
  {
   "cell_type": "code",
   "execution_count": null,
   "metadata": {},
   "outputs": [],
   "source": []
  }
 ],
 "metadata": {
  "kernelspec": {
   "display_name": "Python 3",
   "language": "python",
   "name": "python3"
  },
  "language_info": {
   "codemirror_mode": {
    "name": "ipython",
    "version": 3
   },
   "file_extension": ".py",
   "mimetype": "text/x-python",
   "name": "python",
   "nbconvert_exporter": "python",
   "pygments_lexer": "ipython3",
   "version": "3.6.9"
  }
 },
 "nbformat": 4,
 "nbformat_minor": 4
}
